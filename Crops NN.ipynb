{
  "nbformat": 4,
  "nbformat_minor": 0,
  "metadata": {
    "colab": {
      "provenance": []
    },
    "kernelspec": {
      "name": "python3",
      "display_name": "Python 3"
    },
    "language_info": {
      "name": "python"
    }
  },
  "cells": [
    {
      "cell_type": "markdown",
      "source": [
        "# 0. Setting Up"
      ],
      "metadata": {
        "id": "p6iKmlcHNtCv"
      }
    },
    {
      "cell_type": "markdown",
      "source": [
        "## 0.1 Mounting GDrive"
      ],
      "metadata": {
        "id": "vGtPON64Nu9-"
      }
    },
    {
      "cell_type": "code",
      "execution_count": null,
      "metadata": {
        "colab": {
          "base_uri": "https://localhost:8080/"
        },
        "id": "5TNoQbA9NpRm",
        "outputId": "2aaeeee2-4014-4757-9efb-1a3ef5bfa2fe"
      },
      "outputs": [
        {
          "output_type": "stream",
          "name": "stdout",
          "text": [
            "Mounted at /content/drive\n"
          ]
        }
      ],
      "source": [
        "from google.colab import drive\n",
        "import zipfile\n",
        "\n",
        "drive.mount('/content/drive')\n",
        "\n",
        "DIR = r'/content/drive/Shareddrives/Materijali 2023 2024/6. semestar/Mašinsko učenje/Vežbe/Domaci 2/ml_d2_x_y_z.zip'\n",
        "\n",
        "with zipfile.ZipFile(DIR, 'r') as zip_ref:\n",
        "    zip_ref.extractall()"
      ]
    },
    {
      "cell_type": "markdown",
      "source": [
        "## 0.2 Imports"
      ],
      "metadata": {
        "id": "kNQU3t_lNw9c"
      }
    },
    {
      "cell_type": "code",
      "source": [
        "import pandas as pd\n",
        "import numpy as np\n",
        "import matplotlib.pyplot as plt\n",
        "import tensorflow as tf\n",
        "from sklearn.preprocessing import StandardScaler\n",
        "from sklearn.model_selection import train_test_split\n",
        "from scipy.special import boxcox1p\n",
        "from sklearn.metrics import accuracy_score, classification_report, confusion_matrix, ConfusionMatrixDisplay"
      ],
      "metadata": {
        "id": "4fUwJEABN5oY"
      },
      "execution_count": null,
      "outputs": []
    },
    {
      "cell_type": "markdown",
      "source": [
        "## 0.3 Loading Data"
      ],
      "metadata": {
        "id": "Fk5NO1LqNyXQ"
      }
    },
    {
      "cell_type": "code",
      "source": [
        "DATA_DIR = 'ml_d2_x_y_z-2024/crop.csv'\n",
        "\n",
        "df = pd.read_csv(DATA_DIR)\n",
        "\n",
        "df.head()"
      ],
      "metadata": {
        "colab": {
          "base_uri": "https://localhost:8080/",
          "height": 206
        },
        "id": "nNznH6SdN-oK",
        "outputId": "ebf4d727-8773-4b86-c79c-b74616f08eae"
      },
      "execution_count": null,
      "outputs": [
        {
          "output_type": "execute_result",
          "data": {
            "text/plain": [
              "   Nitrogen  Phosphorus  Potassium  Temperature   Humidity  pH_Value  \\\n",
              "0        90          42         43    20.879744  82.002744  6.502985   \n",
              "1        85          58         41    21.770462  80.319644  7.038096   \n",
              "2        60          55         44    23.004459  82.320763  7.840207   \n",
              "3        74          35         40    26.491096  80.158363  6.980401   \n",
              "4        78          42         42    20.130175  81.604873  7.628473   \n",
              "\n",
              "     Rainfall  Crop  \n",
              "0  202.935536  Rice  \n",
              "1  226.655537  Rice  \n",
              "2  263.964248  Rice  \n",
              "3  242.864034  Rice  \n",
              "4  262.717340  Rice  "
            ],
            "text/html": [
              "\n",
              "  <div id=\"df-e58fb79b-6c55-4a38-9638-dda381f6570b\" class=\"colab-df-container\">\n",
              "    <div>\n",
              "<style scoped>\n",
              "    .dataframe tbody tr th:only-of-type {\n",
              "        vertical-align: middle;\n",
              "    }\n",
              "\n",
              "    .dataframe tbody tr th {\n",
              "        vertical-align: top;\n",
              "    }\n",
              "\n",
              "    .dataframe thead th {\n",
              "        text-align: right;\n",
              "    }\n",
              "</style>\n",
              "<table border=\"1\" class=\"dataframe\">\n",
              "  <thead>\n",
              "    <tr style=\"text-align: right;\">\n",
              "      <th></th>\n",
              "      <th>Nitrogen</th>\n",
              "      <th>Phosphorus</th>\n",
              "      <th>Potassium</th>\n",
              "      <th>Temperature</th>\n",
              "      <th>Humidity</th>\n",
              "      <th>pH_Value</th>\n",
              "      <th>Rainfall</th>\n",
              "      <th>Crop</th>\n",
              "    </tr>\n",
              "  </thead>\n",
              "  <tbody>\n",
              "    <tr>\n",
              "      <th>0</th>\n",
              "      <td>90</td>\n",
              "      <td>42</td>\n",
              "      <td>43</td>\n",
              "      <td>20.879744</td>\n",
              "      <td>82.002744</td>\n",
              "      <td>6.502985</td>\n",
              "      <td>202.935536</td>\n",
              "      <td>Rice</td>\n",
              "    </tr>\n",
              "    <tr>\n",
              "      <th>1</th>\n",
              "      <td>85</td>\n",
              "      <td>58</td>\n",
              "      <td>41</td>\n",
              "      <td>21.770462</td>\n",
              "      <td>80.319644</td>\n",
              "      <td>7.038096</td>\n",
              "      <td>226.655537</td>\n",
              "      <td>Rice</td>\n",
              "    </tr>\n",
              "    <tr>\n",
              "      <th>2</th>\n",
              "      <td>60</td>\n",
              "      <td>55</td>\n",
              "      <td>44</td>\n",
              "      <td>23.004459</td>\n",
              "      <td>82.320763</td>\n",
              "      <td>7.840207</td>\n",
              "      <td>263.964248</td>\n",
              "      <td>Rice</td>\n",
              "    </tr>\n",
              "    <tr>\n",
              "      <th>3</th>\n",
              "      <td>74</td>\n",
              "      <td>35</td>\n",
              "      <td>40</td>\n",
              "      <td>26.491096</td>\n",
              "      <td>80.158363</td>\n",
              "      <td>6.980401</td>\n",
              "      <td>242.864034</td>\n",
              "      <td>Rice</td>\n",
              "    </tr>\n",
              "    <tr>\n",
              "      <th>4</th>\n",
              "      <td>78</td>\n",
              "      <td>42</td>\n",
              "      <td>42</td>\n",
              "      <td>20.130175</td>\n",
              "      <td>81.604873</td>\n",
              "      <td>7.628473</td>\n",
              "      <td>262.717340</td>\n",
              "      <td>Rice</td>\n",
              "    </tr>\n",
              "  </tbody>\n",
              "</table>\n",
              "</div>\n",
              "    <div class=\"colab-df-buttons\">\n",
              "\n",
              "  <div class=\"colab-df-container\">\n",
              "    <button class=\"colab-df-convert\" onclick=\"convertToInteractive('df-e58fb79b-6c55-4a38-9638-dda381f6570b')\"\n",
              "            title=\"Convert this dataframe to an interactive table.\"\n",
              "            style=\"display:none;\">\n",
              "\n",
              "  <svg xmlns=\"http://www.w3.org/2000/svg\" height=\"24px\" viewBox=\"0 -960 960 960\">\n",
              "    <path d=\"M120-120v-720h720v720H120Zm60-500h600v-160H180v160Zm220 220h160v-160H400v160Zm0 220h160v-160H400v160ZM180-400h160v-160H180v160Zm440 0h160v-160H620v160ZM180-180h160v-160H180v160Zm440 0h160v-160H620v160Z\"/>\n",
              "  </svg>\n",
              "    </button>\n",
              "\n",
              "  <style>\n",
              "    .colab-df-container {\n",
              "      display:flex;\n",
              "      gap: 12px;\n",
              "    }\n",
              "\n",
              "    .colab-df-convert {\n",
              "      background-color: #E8F0FE;\n",
              "      border: none;\n",
              "      border-radius: 50%;\n",
              "      cursor: pointer;\n",
              "      display: none;\n",
              "      fill: #1967D2;\n",
              "      height: 32px;\n",
              "      padding: 0 0 0 0;\n",
              "      width: 32px;\n",
              "    }\n",
              "\n",
              "    .colab-df-convert:hover {\n",
              "      background-color: #E2EBFA;\n",
              "      box-shadow: 0px 1px 2px rgba(60, 64, 67, 0.3), 0px 1px 3px 1px rgba(60, 64, 67, 0.15);\n",
              "      fill: #174EA6;\n",
              "    }\n",
              "\n",
              "    .colab-df-buttons div {\n",
              "      margin-bottom: 4px;\n",
              "    }\n",
              "\n",
              "    [theme=dark] .colab-df-convert {\n",
              "      background-color: #3B4455;\n",
              "      fill: #D2E3FC;\n",
              "    }\n",
              "\n",
              "    [theme=dark] .colab-df-convert:hover {\n",
              "      background-color: #434B5C;\n",
              "      box-shadow: 0px 1px 3px 1px rgba(0, 0, 0, 0.15);\n",
              "      filter: drop-shadow(0px 1px 2px rgba(0, 0, 0, 0.3));\n",
              "      fill: #FFFFFF;\n",
              "    }\n",
              "  </style>\n",
              "\n",
              "    <script>\n",
              "      const buttonEl =\n",
              "        document.querySelector('#df-e58fb79b-6c55-4a38-9638-dda381f6570b button.colab-df-convert');\n",
              "      buttonEl.style.display =\n",
              "        google.colab.kernel.accessAllowed ? 'block' : 'none';\n",
              "\n",
              "      async function convertToInteractive(key) {\n",
              "        const element = document.querySelector('#df-e58fb79b-6c55-4a38-9638-dda381f6570b');\n",
              "        const dataTable =\n",
              "          await google.colab.kernel.invokeFunction('convertToInteractive',\n",
              "                                                    [key], {});\n",
              "        if (!dataTable) return;\n",
              "\n",
              "        const docLinkHtml = 'Like what you see? Visit the ' +\n",
              "          '<a target=\"_blank\" href=https://colab.research.google.com/notebooks/data_table.ipynb>data table notebook</a>'\n",
              "          + ' to learn more about interactive tables.';\n",
              "        element.innerHTML = '';\n",
              "        dataTable['output_type'] = 'display_data';\n",
              "        await google.colab.output.renderOutput(dataTable, element);\n",
              "        const docLink = document.createElement('div');\n",
              "        docLink.innerHTML = docLinkHtml;\n",
              "        element.appendChild(docLink);\n",
              "      }\n",
              "    </script>\n",
              "  </div>\n",
              "\n",
              "\n",
              "<div id=\"df-52f9ea47-ceb0-441c-9fc6-a76f580b6f03\">\n",
              "  <button class=\"colab-df-quickchart\" onclick=\"quickchart('df-52f9ea47-ceb0-441c-9fc6-a76f580b6f03')\"\n",
              "            title=\"Suggest charts\"\n",
              "            style=\"display:none;\">\n",
              "\n",
              "<svg xmlns=\"http://www.w3.org/2000/svg\" height=\"24px\"viewBox=\"0 0 24 24\"\n",
              "     width=\"24px\">\n",
              "    <g>\n",
              "        <path d=\"M19 3H5c-1.1 0-2 .9-2 2v14c0 1.1.9 2 2 2h14c1.1 0 2-.9 2-2V5c0-1.1-.9-2-2-2zM9 17H7v-7h2v7zm4 0h-2V7h2v10zm4 0h-2v-4h2v4z\"/>\n",
              "    </g>\n",
              "</svg>\n",
              "  </button>\n",
              "\n",
              "<style>\n",
              "  .colab-df-quickchart {\n",
              "      --bg-color: #E8F0FE;\n",
              "      --fill-color: #1967D2;\n",
              "      --hover-bg-color: #E2EBFA;\n",
              "      --hover-fill-color: #174EA6;\n",
              "      --disabled-fill-color: #AAA;\n",
              "      --disabled-bg-color: #DDD;\n",
              "  }\n",
              "\n",
              "  [theme=dark] .colab-df-quickchart {\n",
              "      --bg-color: #3B4455;\n",
              "      --fill-color: #D2E3FC;\n",
              "      --hover-bg-color: #434B5C;\n",
              "      --hover-fill-color: #FFFFFF;\n",
              "      --disabled-bg-color: #3B4455;\n",
              "      --disabled-fill-color: #666;\n",
              "  }\n",
              "\n",
              "  .colab-df-quickchart {\n",
              "    background-color: var(--bg-color);\n",
              "    border: none;\n",
              "    border-radius: 50%;\n",
              "    cursor: pointer;\n",
              "    display: none;\n",
              "    fill: var(--fill-color);\n",
              "    height: 32px;\n",
              "    padding: 0;\n",
              "    width: 32px;\n",
              "  }\n",
              "\n",
              "  .colab-df-quickchart:hover {\n",
              "    background-color: var(--hover-bg-color);\n",
              "    box-shadow: 0 1px 2px rgba(60, 64, 67, 0.3), 0 1px 3px 1px rgba(60, 64, 67, 0.15);\n",
              "    fill: var(--button-hover-fill-color);\n",
              "  }\n",
              "\n",
              "  .colab-df-quickchart-complete:disabled,\n",
              "  .colab-df-quickchart-complete:disabled:hover {\n",
              "    background-color: var(--disabled-bg-color);\n",
              "    fill: var(--disabled-fill-color);\n",
              "    box-shadow: none;\n",
              "  }\n",
              "\n",
              "  .colab-df-spinner {\n",
              "    border: 2px solid var(--fill-color);\n",
              "    border-color: transparent;\n",
              "    border-bottom-color: var(--fill-color);\n",
              "    animation:\n",
              "      spin 1s steps(1) infinite;\n",
              "  }\n",
              "\n",
              "  @keyframes spin {\n",
              "    0% {\n",
              "      border-color: transparent;\n",
              "      border-bottom-color: var(--fill-color);\n",
              "      border-left-color: var(--fill-color);\n",
              "    }\n",
              "    20% {\n",
              "      border-color: transparent;\n",
              "      border-left-color: var(--fill-color);\n",
              "      border-top-color: var(--fill-color);\n",
              "    }\n",
              "    30% {\n",
              "      border-color: transparent;\n",
              "      border-left-color: var(--fill-color);\n",
              "      border-top-color: var(--fill-color);\n",
              "      border-right-color: var(--fill-color);\n",
              "    }\n",
              "    40% {\n",
              "      border-color: transparent;\n",
              "      border-right-color: var(--fill-color);\n",
              "      border-top-color: var(--fill-color);\n",
              "    }\n",
              "    60% {\n",
              "      border-color: transparent;\n",
              "      border-right-color: var(--fill-color);\n",
              "    }\n",
              "    80% {\n",
              "      border-color: transparent;\n",
              "      border-right-color: var(--fill-color);\n",
              "      border-bottom-color: var(--fill-color);\n",
              "    }\n",
              "    90% {\n",
              "      border-color: transparent;\n",
              "      border-bottom-color: var(--fill-color);\n",
              "    }\n",
              "  }\n",
              "</style>\n",
              "\n",
              "  <script>\n",
              "    async function quickchart(key) {\n",
              "      const quickchartButtonEl =\n",
              "        document.querySelector('#' + key + ' button');\n",
              "      quickchartButtonEl.disabled = true;  // To prevent multiple clicks.\n",
              "      quickchartButtonEl.classList.add('colab-df-spinner');\n",
              "      try {\n",
              "        const charts = await google.colab.kernel.invokeFunction(\n",
              "            'suggestCharts', [key], {});\n",
              "      } catch (error) {\n",
              "        console.error('Error during call to suggestCharts:', error);\n",
              "      }\n",
              "      quickchartButtonEl.classList.remove('colab-df-spinner');\n",
              "      quickchartButtonEl.classList.add('colab-df-quickchart-complete');\n",
              "    }\n",
              "    (() => {\n",
              "      let quickchartButtonEl =\n",
              "        document.querySelector('#df-52f9ea47-ceb0-441c-9fc6-a76f580b6f03 button');\n",
              "      quickchartButtonEl.style.display =\n",
              "        google.colab.kernel.accessAllowed ? 'block' : 'none';\n",
              "    })();\n",
              "  </script>\n",
              "</div>\n",
              "    </div>\n",
              "  </div>\n"
            ],
            "application/vnd.google.colaboratory.intrinsic+json": {
              "type": "dataframe",
              "variable_name": "df",
              "summary": "{\n  \"name\": \"df\",\n  \"rows\": 2200,\n  \"fields\": [\n    {\n      \"column\": \"Nitrogen\",\n      \"properties\": {\n        \"dtype\": \"number\",\n        \"std\": 36,\n        \"min\": 0,\n        \"max\": 140,\n        \"num_unique_values\": 137,\n        \"samples\": [\n          106,\n          101,\n          88\n        ],\n        \"semantic_type\": \"\",\n        \"description\": \"\"\n      }\n    },\n    {\n      \"column\": \"Phosphorus\",\n      \"properties\": {\n        \"dtype\": \"number\",\n        \"std\": 32,\n        \"min\": 5,\n        \"max\": 145,\n        \"num_unique_values\": 117,\n        \"samples\": [\n          69,\n          37,\n          11\n        ],\n        \"semantic_type\": \"\",\n        \"description\": \"\"\n      }\n    },\n    {\n      \"column\": \"Potassium\",\n      \"properties\": {\n        \"dtype\": \"number\",\n        \"std\": 50,\n        \"min\": 5,\n        \"max\": 205,\n        \"num_unique_values\": 73,\n        \"samples\": [\n          42,\n          12,\n          15\n        ],\n        \"semantic_type\": \"\",\n        \"description\": \"\"\n      }\n    },\n    {\n      \"column\": \"Temperature\",\n      \"properties\": {\n        \"dtype\": \"number\",\n        \"std\": 5.063748599958843,\n        \"min\": 8.825674745,\n        \"max\": 43.67549305,\n        \"num_unique_values\": 2200,\n        \"samples\": [\n          29.49401389,\n          26.1793464,\n          43.36051537\n        ],\n        \"semantic_type\": \"\",\n        \"description\": \"\"\n      }\n    },\n    {\n      \"column\": \"Humidity\",\n      \"properties\": {\n        \"dtype\": \"number\",\n        \"std\": 22.263811589761083,\n        \"min\": 14.25803981,\n        \"max\": 99.98187601,\n        \"num_unique_values\": 2200,\n        \"samples\": [\n          94.72981338,\n          86.52258079,\n          93.35191636\n        ],\n        \"semantic_type\": \"\",\n        \"description\": \"\"\n      }\n    },\n    {\n      \"column\": \"pH_Value\",\n      \"properties\": {\n        \"dtype\": \"number\",\n        \"std\": 0.7739376880298733,\n        \"min\": 3.504752314,\n        \"max\": 9.93509073,\n        \"num_unique_values\": 2200,\n        \"samples\": [\n          6.185053234,\n          6.25933595,\n          6.941496806\n        ],\n        \"semantic_type\": \"\",\n        \"description\": \"\"\n      }\n    },\n    {\n      \"column\": \"Rainfall\",\n      \"properties\": {\n        \"dtype\": \"number\",\n        \"std\": 54.95838852487813,\n        \"min\": 20.21126747,\n        \"max\": 298.5601175,\n        \"num_unique_values\": 2200,\n        \"samples\": [\n          26.30820876,\n          49.43050977,\n          114.778071\n        ],\n        \"semantic_type\": \"\",\n        \"description\": \"\"\n      }\n    },\n    {\n      \"column\": \"Crop\",\n      \"properties\": {\n        \"dtype\": \"category\",\n        \"num_unique_values\": 22,\n        \"samples\": [\n          \"Rice\",\n          \"Watermelon\",\n          \"Lentil\"\n        ],\n        \"semantic_type\": \"\",\n        \"description\": \"\"\n      }\n    }\n  ]\n}"
            }
          },
          "metadata": {},
          "execution_count": 4
        }
      ]
    },
    {
      "cell_type": "markdown",
      "source": [
        "# 1. Feature Engineering"
      ],
      "metadata": {
        "id": "DFnPwLYxOByj"
      }
    },
    {
      "cell_type": "markdown",
      "source": [
        "## 1.1 Splitting Features and Labels"
      ],
      "metadata": {
        "id": "AbhEYxE9Ow0C"
      }
    },
    {
      "cell_type": "code",
      "source": [
        "X = df.drop(columns=['Crop'])\n",
        "y = df['Crop']"
      ],
      "metadata": {
        "id": "oVLJ6HRsOVpf"
      },
      "execution_count": null,
      "outputs": []
    },
    {
      "cell_type": "markdown",
      "source": [
        "## 1.2 One-Hot Encoding the Labels"
      ],
      "metadata": {
        "id": "7ORekzteO8FO"
      }
    },
    {
      "cell_type": "code",
      "source": [
        "y_onehot = pd.get_dummies(y)\n",
        "y_onehot.shape"
      ],
      "metadata": {
        "colab": {
          "base_uri": "https://localhost:8080/"
        },
        "id": "du1h3RAtO_bE",
        "outputId": "343e0ec4-8f5f-4d69-a2d4-70c83c1d12f1"
      },
      "execution_count": null,
      "outputs": [
        {
          "output_type": "execute_result",
          "data": {
            "text/plain": [
              "(2200, 22)"
            ]
          },
          "metadata": {},
          "execution_count": 6
        }
      ]
    },
    {
      "cell_type": "markdown",
      "source": [
        "## 1.3 Setting up Transformations"
      ],
      "metadata": {
        "id": "-ossX7VcPbCu"
      }
    },
    {
      "cell_type": "code",
      "source": [
        "boxcox_cols = ['Potassium', 'Phosphorus', 'Rainfall']\n",
        "log_cols = []"
      ],
      "metadata": {
        "id": "BENj8FH0PeO1"
      },
      "execution_count": null,
      "outputs": []
    },
    {
      "cell_type": "code",
      "source": [
        "def log_transform(X):\n",
        "  X = X.apply(lambda x: np.log1p(x))\n",
        "  return X\n",
        "\n",
        "def boxcox_transform(X, lmbda=0.3):\n",
        "  X = X.apply(lambda x: boxcox1p(x, lmbda))\n",
        "  return X"
      ],
      "metadata": {
        "id": "c6_9FRuLPfr6"
      },
      "execution_count": null,
      "outputs": []
    },
    {
      "cell_type": "markdown",
      "source": [
        "# 2. Building the Neural Network"
      ],
      "metadata": {
        "id": "EcwWM18SPAis"
      }
    },
    {
      "cell_type": "markdown",
      "source": [
        "## 2.1 NN Class"
      ],
      "metadata": {
        "id": "ML5dsEOH6euc"
      }
    },
    {
      "cell_type": "code",
      "source": [
        "class NN:\n",
        "  def __init__(self, fs, n_input, n_classes, n_hidden):\n",
        "\n",
        "    assert len(n_hidden) == len(fs) - 1\n",
        "\n",
        "    self.fs = fs\n",
        "    self.n_classes = n_classes\n",
        "\n",
        "    self.ws = {}\n",
        "    self.bs = {}\n",
        "\n",
        "\n",
        "    w_sizes = [(n_input, n_hidden[0])]\n",
        "\n",
        "    for i in range(len(n_hidden) - 1):\n",
        "        w_sizes.append((n_hidden[i], n_hidden[i + 1]))\n",
        "\n",
        "    w_sizes.append((n_hidden[-1], n_classes))\n",
        "\n",
        "    b_sizes = n_hidden\n",
        "    b_sizes.append(n_classes)\n",
        "\n",
        "\n",
        "    for idx, k in enumerate(fs.keys()):\n",
        "      self.ws[k] = np.random.normal(size=(w_sizes[idx][0], w_sizes[idx][1]))\n",
        "      self.bs[k] = np.random.normal(size=(b_sizes[idx]))\n",
        "      #self.ws[k]  = tf.Variable(tf.random.normal([w_sizes[idx][0], w_sizes[idx][1]], dtype=tf.float64))\n",
        "      #self.bs[k] = tf.Variable(tf.random.normal([b_sizes[idx]], dtype=tf.float64))\n",
        "\n",
        "    self.v_dW = {k: np.zeros_like(w) for k, w in self.ws.items()}\n",
        "    self.v_db = {k: np.zeros_like(b) for k, b in self.bs.items()}\n",
        "    self.s_dW = {k: np.zeros_like(w) for k, w in self.ws.items()}\n",
        "    self.s_db = {k: np.zeros_like(b) for k, b in self.bs.items()}\n",
        "\n",
        "\n",
        "  def forward_prop(self, X, train=False):\n",
        "    if train:\n",
        "      caches = []\n",
        "    a = X\n",
        "\n",
        "    for k in self.fs.keys():\n",
        "\n",
        "      z = np.dot(a, self.ws[k]) + self.bs[k]\n",
        "      if train:\n",
        "        caches.append((a, z))\n",
        "\n",
        "      match self.fs[k]:\n",
        "        case 'relu':\n",
        "          a = self.relu(z)\n",
        "        case 'sigmoid':\n",
        "          a = self.sigmoid(z)\n",
        "        case 'softmax':\n",
        "          a = self.softmax(z)\n",
        "        case 'tanh':\n",
        "          a = self.tanh(z)\n",
        "        case 'leaky_relu':\n",
        "          a = self.leaky_relu(z)\n",
        "        case _:\n",
        "          raise Exception(\"Activation Function Not Found!\")\n",
        "\n",
        "    if train:\n",
        "      self.caches = caches\n",
        "    return a\n",
        "\n",
        "  def relu(self, z):\n",
        "    return np.maximum(0, z)\n",
        "\n",
        "  def relu_derivative(self, x):\n",
        "    return x >= 0\n",
        "\n",
        "  def softmax(self, z):\n",
        "    exp_z = np.exp(z - np.max(z, axis=1, keepdims=True))\n",
        "    return exp_z / np.sum(exp_z, axis=1, keepdims=True)\n",
        "\n",
        "  def softmax_derivative(self, x):\n",
        "    sm = self.softmax(x)\n",
        "    return np.diag(sm) - np.outer(sm, sm)\n",
        "\n",
        "  def sigmoid(self, z):\n",
        "    return 1.0 / (1.0 + np.exp(-z))\n",
        "\n",
        "  def sigmoid_derivative(self, x):\n",
        "    return self.sigmoid(x) * (1 - self.sigmoid(x))\n",
        "\n",
        "  def tanh(self, z):\n",
        "    return np.tanh(z)\n",
        "\n",
        "  def tanh_derivative(self, x):\n",
        "    return 1 - self.tanh(x) ** 2\n",
        "\n",
        "  def leaky_relu(self, z, alpha=0.01):\n",
        "    return np.where(z > 0, z, alpha * z)\n",
        "\n",
        "  def leaky_relu_derivative(self, x, alpha=0.01):\n",
        "    return np.where(x >= 0, 1, alpha)\n",
        "\n",
        "\n",
        "  def compute_loss(self, y, y_hat):\n",
        "    return -np.mean(np.sum(y * np.log(y_hat + self.epsilon), axis=1))\n",
        "\n",
        "  def back_prop(self, X, y, y_hat, t):\n",
        "    m = y.shape[0]\n",
        "    grads = {}\n",
        "\n",
        "    for k in self.ws.keys():\n",
        "      grads[f'dW_{k}'] = np.zeros_like(self.ws[k])\n",
        "      grads[f'db_{k}'] = np.zeros_like(self.bs[k])\n",
        "\n",
        "    # Calcualating Gradients\n",
        "    dA = y_hat - y\n",
        "\n",
        "    out = True\n",
        "\n",
        "    for k in reversed(list(self.fs.keys())):\n",
        "      A_prev, Z = self.caches.pop()\n",
        "      match self.fs[k]:\n",
        "        case 'softmax':\n",
        "          if out:\n",
        "            dZ = dA\n",
        "            out = False\n",
        "          else:\n",
        "            dZ = dA * self.softmax_derivative(Z)\n",
        "        case 'relu':\n",
        "          dZ = dA * self.relu_derivative(Z)\n",
        "        case 'sigmoid':\n",
        "          dZ = dA * self.sigmoid_derivative(Z)\n",
        "        case 'tanh':\n",
        "          dZ = dA * self.tanh_derivative(Z)\n",
        "        case 'leaky_relu':\n",
        "          dZ = dA * self.leaky_relu_derivative(Z)\n",
        "        case _:\n",
        "          raise Exception(\"Activation Function Not Found!\")\n",
        "\n",
        "      grads[f'dW_{k}'] = np.dot(A_prev.T, dZ) / m\n",
        "      grads[f'db_{k}'] = np.sum(dZ, axis=0, keepdims=True) / m\n",
        "\n",
        "      dA = np.dot(dZ, self.ws[k].T)\n",
        "\n",
        "    # Adam Optimization\n",
        "    for k in self.ws.keys():\n",
        "      self.v_dW[k] = self.beta1 * self.v_dW[k] + (1 - self.beta1) * grads[f'dW_{k}'] # Momentum weight derivatives\n",
        "      self.v_db[k] = self.beta1 * self.v_db[k] + (1 - self.beta1) * grads[f'db_{k}'] # Momentum bias derivatives\n",
        "      self.s_dW[k] = self.beta2 * self.s_dW[k] + (1 - self.beta2) * grads[f'dW_{k}'] ** 2 # RMSProp weight derivatives\n",
        "      self.s_db[k] = self.beta2 * self.s_db[k] + (1 - self.beta2) * grads[f'db_{k}'] ** 2 # RMSProp bias derivatives\n",
        "\n",
        "      # Bias correction\n",
        "      v_dW_corrected = np.reshape(self.v_dW[k]  / (1 - self.beta1 ** t), self.ws[k].shape)\n",
        "      v_db_corrected = np.reshape(self.v_db[k] / (1 - self.beta1 ** t), self.bs[k].shape)\n",
        "      s_dW_corrected = np.reshape(self.s_dW[k]  / (1 - self.beta2 ** t), self.ws[k].shape)\n",
        "      s_db_corrected = np.reshape(self.s_db[k] / (1 - self.beta2 ** t), self.bs[k].shape)\n",
        "\n",
        "      # Updating weights and biases\n",
        "      self.ws[k] -= self.lr * v_dW_corrected / (np.sqrt(s_dW_corrected) + self.epsilon)\n",
        "      self.bs[k] -= self.lr * v_db_corrected / (np.sqrt(s_db_corrected) + self.epsilon)\n",
        "\n",
        "  def train(self, X_train, y_train, X_val, y_val, epochs=100, batch_size=32,\n",
        "            lr=0.001, beta1=0.9, beta2=0.999, epsilon=1.0e-8):\n",
        "\n",
        "    self.epochs = epochs\n",
        "    self.lr = lr\n",
        "    self.batch_size = batch_size\n",
        "    self.beta1 = beta1\n",
        "    self.beta2 = beta2\n",
        "    self.epsilon = epsilon\n",
        "    self.train_accs = []\n",
        "    self.val_accs = []\n",
        "    self. train_losses = []\n",
        "    self.val_losses = []\n",
        "    y_train = np.squeeze(np.eye(self.n_classes)[y_train.reshape(-1)])\n",
        "    t = 0\n",
        "\n",
        "    for epoch in range(1, epochs+1):\n",
        "      print(f'Epoch {epoch}/{epochs}')\n",
        "      # Permutation before splitting into mini-batches\n",
        "      permutation = np.random.permutation(X_train.shape[0])\n",
        "      X_shuffled = X_train[permutation]\n",
        "      y_shuffled = y_train[permutation]\n",
        "\n",
        "      for i in range(0, X_train.shape[0], self.batch_size):\n",
        "        X_batch = X_shuffled[i:i + self.batch_size]\n",
        "        y_batch = y_shuffled[i:i + self.batch_size]\n",
        "\n",
        "        y_hat = self.forward_prop(X_batch, train=True)\n",
        "        # loss = self.compute_loss(y_batch, y_hat)\n",
        "\n",
        "        t += 1  # Increment the time step counter\n",
        "        self.back_prop(X_batch, y_batch.astype(np.float64), y_hat, t)\n",
        "\n",
        "      train_preds = self.predict(X_train)\n",
        "      train_loss = self.compute_loss(y_train, np.squeeze(np.eye(self.n_classes)[train_preds.reshape(-1)]))\n",
        "      train_acc = accuracy_score(np.argmax(y_train, axis=1), train_preds) * 100\n",
        "      val_preds = self.predict(X_val)\n",
        "      val_loss = self.compute_loss(np.squeeze(np.eye(self.n_classes)[y_val.reshape(-1)]), np.squeeze(np.eye(self.n_classes)[val_preds.reshape(-1)]))\n",
        "      val_acc = accuracy_score(y_val, val_preds) * 100\n",
        "      print(f'(Loss: Train: {train_loss:.4f} Val: {val_loss:.4f}\\t Accuracy: Train: {train_acc:.3f}, Val: {val_acc:.3f})')\n",
        "\n",
        "      self.train_losses.append(train_loss)\n",
        "      self.val_losses.append(val_loss)\n",
        "      self.train_accs.append(train_acc)\n",
        "      self.val_accs.append(val_acc)\n",
        "\n",
        "  def plot(self):\n",
        "    step = self.epochs // 10\n",
        "    plt.title('Train vs Val Accuracy')\n",
        "    plt.plot(range(1, self.epochs+1), self.train_accs, c='blue', label='train')\n",
        "    plt.plot(range(1, self.epochs+1), self.val_accs, c='red', label='val')\n",
        "    plt.xlabel('Epoch')\n",
        "    plt.ylabel('Accuracy (%)')\n",
        "    plt.xticks(np.arange(0, self.epochs+step, step=step))\n",
        "    plt.legend()\n",
        "    plt.show()\n",
        "    plt.title('Train vs Val Loss')\n",
        "    plt.plot(range(1, self.epochs+1), self.train_losses, c='blue', label='train')\n",
        "    plt.plot(range(1, self.epochs+1), self.val_losses, c='red', label='val')\n",
        "    plt.xticks(np.arange(0, self.epochs+step, step=step))\n",
        "    plt.xlabel('Epoch')\n",
        "    plt.ylabel('Loss')\n",
        "    plt.legend()\n",
        "    plt.show()\n",
        "  def predict(self, X):\n",
        "    return np.argmax(self.forward_prop(X), axis=1)"
      ],
      "metadata": {
        "id": "VKPlqy1UPDG2"
      },
      "execution_count": null,
      "outputs": []
    },
    {
      "cell_type": "markdown",
      "source": [
        "## 2.2 Applying Transformations"
      ],
      "metadata": {
        "id": "2aIdvVT36gjK"
      }
    },
    {
      "cell_type": "markdown",
      "source": [
        "### 2.2.1 Applying BoxCox and Log Transformations"
      ],
      "metadata": {
        "id": "gQN3RwtMiKWC"
      }
    },
    {
      "cell_type": "code",
      "source": [
        "from sklearn import preprocessing\n",
        "\n",
        "\n",
        "if len(log_cols)>0:\n",
        "  X[log_cols] = log_transform(X[log_cols])\n",
        "if len(boxcox_cols)>0:\n",
        "  X[boxcox_cols] = boxcox_transform(X[boxcox_cols])\n"
      ],
      "metadata": {
        "id": "8OdpLouqtTn_"
      },
      "execution_count": null,
      "outputs": []
    },
    {
      "cell_type": "markdown",
      "source": [
        "### 2.2.2 Label Encoding the Target values, Normalization and Train-Test Splitting"
      ],
      "metadata": {
        "id": "nBmPG65GiObG"
      }
    },
    {
      "cell_type": "code",
      "source": [
        "label_encoder = preprocessing.LabelEncoder()\n",
        "\n",
        "y = label_encoder.fit_transform(y)\n",
        "\n",
        "X_train, X_test, y_train, y_test = train_test_split(X, y, test_size=0.2, shuffle = True, random_state=0)\n",
        "\n",
        "scaler = StandardScaler()\n",
        "X_train = scaler.fit_transform(X_train)\n",
        "X_test = scaler.transform(X_test)"
      ],
      "metadata": {
        "id": "KrAm67F-nbJD"
      },
      "execution_count": null,
      "outputs": []
    },
    {
      "cell_type": "markdown",
      "source": [
        "## 2.3 Building The Model"
      ],
      "metadata": {
        "id": "GFbpIXFTiXjk"
      }
    },
    {
      "cell_type": "code",
      "source": [
        "\n",
        "n_input = 7\n",
        "n_classes = 22\n",
        "n_hidden = [32, 16]\n",
        "fs = {\n",
        "    '1': 'leaky_relu',\n",
        "    '2': 'tanh',\n",
        "    'out': 'softmax',\n",
        "}\n",
        "\n",
        "nn = NN(fs, n_input, n_classes, n_hidden)\n",
        "\n",
        "nn.train(X_train, y_train, X_test, y_test, batch_size=64, epochs=100, lr=0.01)"
      ],
      "metadata": {
        "colab": {
          "base_uri": "https://localhost:8080/"
        },
        "id": "zqvryGFoXwHo",
        "outputId": "4f9ec31d-6756-47b5-bf2c-57000f0527e7"
      },
      "execution_count": null,
      "outputs": [
        {
          "output_type": "stream",
          "name": "stdout",
          "text": [
            "Epoch 1/100\n",
            "(Loss: Train: 12.0153 Val: 11.9734\t Accuracy: Train: 34.773, Val: 35.000)\n",
            "Epoch 2/100\n",
            "(Loss: Train: 7.2950 Val: 7.2427\t Accuracy: Train: 60.398, Val: 60.682)\n",
            "Epoch 3/100\n",
            "(Loss: Train: 3.9772 Val: 3.9353\t Accuracy: Train: 78.409, Val: 78.636)\n",
            "Epoch 4/100\n",
            "(Loss: Train: 2.5747 Val: 3.1399\t Accuracy: Train: 86.023, Val: 82.955)\n",
            "Epoch 5/100\n",
            "(Loss: Train: 1.9049 Val: 2.5956\t Accuracy: Train: 89.659, Val: 85.909)\n",
            "Epoch 6/100\n",
            "(Loss: Train: 1.5385 Val: 2.2189\t Accuracy: Train: 91.648, Val: 87.955)\n",
            "Epoch 7/100\n",
            "(Loss: Train: 1.2664 Val: 1.8839\t Accuracy: Train: 93.125, Val: 89.773)\n",
            "Epoch 8/100\n",
            "(Loss: Train: 0.9524 Val: 1.7165\t Accuracy: Train: 94.830, Val: 90.682)\n",
            "Epoch 9/100\n",
            "(Loss: Train: 0.6698 Val: 1.2560\t Accuracy: Train: 96.364, Val: 93.182)\n",
            "Epoch 10/100\n",
            "(Loss: Train: 0.5756 Val: 1.0048\t Accuracy: Train: 96.875, Val: 94.545)\n",
            "Epoch 11/100\n",
            "(Loss: Train: 0.4605 Val: 0.7536\t Accuracy: Train: 97.500, Val: 95.909)\n",
            "Epoch 12/100\n",
            "(Loss: Train: 0.5024 Val: 0.9210\t Accuracy: Train: 97.273, Val: 95.000)\n",
            "Epoch 13/100\n",
            "(Loss: Train: 0.4710 Val: 0.9210\t Accuracy: Train: 97.443, Val: 95.000)\n",
            "Epoch 14/100\n",
            "(Loss: Train: 0.4082 Val: 0.7117\t Accuracy: Train: 97.784, Val: 96.136)\n",
            "Epoch 15/100\n",
            "(Loss: Train: 0.3349 Val: 0.5861\t Accuracy: Train: 98.182, Val: 96.818)\n",
            "Epoch 16/100\n",
            "(Loss: Train: 0.2931 Val: 0.6280\t Accuracy: Train: 98.409, Val: 96.591)\n",
            "Epoch 17/100\n",
            "(Loss: Train: 0.2303 Val: 0.5861\t Accuracy: Train: 98.750, Val: 96.818)\n",
            "Epoch 18/100\n",
            "(Loss: Train: 0.1779 Val: 0.5861\t Accuracy: Train: 99.034, Val: 96.818)\n",
            "Epoch 19/100\n",
            "(Loss: Train: 0.2407 Val: 0.6280\t Accuracy: Train: 98.693, Val: 96.591)\n",
            "Epoch 20/100\n",
            "(Loss: Train: 0.2826 Val: 0.6280\t Accuracy: Train: 98.466, Val: 96.591)\n",
            "Epoch 21/100\n",
            "(Loss: Train: 0.2407 Val: 0.6698\t Accuracy: Train: 98.693, Val: 96.364)\n",
            "Epoch 22/100\n",
            "(Loss: Train: 0.1465 Val: 0.5024\t Accuracy: Train: 99.205, Val: 97.273)\n",
            "Epoch 23/100\n",
            "(Loss: Train: 0.1151 Val: 0.5442\t Accuracy: Train: 99.375, Val: 97.045)\n",
            "Epoch 24/100\n",
            "(Loss: Train: 0.1465 Val: 0.6280\t Accuracy: Train: 99.205, Val: 96.591)\n",
            "Epoch 25/100\n",
            "(Loss: Train: 0.2093 Val: 0.6698\t Accuracy: Train: 98.864, Val: 96.364)\n",
            "Epoch 26/100\n",
            "(Loss: Train: 0.1361 Val: 0.5442\t Accuracy: Train: 99.261, Val: 97.045)\n",
            "Epoch 27/100\n",
            "(Loss: Train: 0.1047 Val: 0.5861\t Accuracy: Train: 99.432, Val: 96.818)\n",
            "Epoch 28/100\n",
            "(Loss: Train: 0.1047 Val: 0.5442\t Accuracy: Train: 99.432, Val: 97.045)\n",
            "Epoch 29/100\n",
            "(Loss: Train: 0.1151 Val: 0.5861\t Accuracy: Train: 99.375, Val: 96.818)\n",
            "Epoch 30/100\n",
            "(Loss: Train: 0.0733 Val: 0.4605\t Accuracy: Train: 99.602, Val: 97.500)\n",
            "Epoch 31/100\n",
            "(Loss: Train: 0.0837 Val: 0.5442\t Accuracy: Train: 99.545, Val: 97.045)\n",
            "Epoch 32/100\n",
            "(Loss: Train: 0.1047 Val: 0.4605\t Accuracy: Train: 99.432, Val: 97.500)\n",
            "Epoch 33/100\n",
            "(Loss: Train: 0.0837 Val: 0.4187\t Accuracy: Train: 99.545, Val: 97.727)\n",
            "Epoch 34/100\n",
            "(Loss: Train: 0.0628 Val: 0.4605\t Accuracy: Train: 99.659, Val: 97.500)\n",
            "Epoch 35/100\n",
            "(Loss: Train: 0.0628 Val: 0.4605\t Accuracy: Train: 99.659, Val: 97.500)\n",
            "Epoch 36/100\n",
            "(Loss: Train: 0.0942 Val: 0.4605\t Accuracy: Train: 99.489, Val: 97.500)\n",
            "Epoch 37/100\n",
            "(Loss: Train: 0.0523 Val: 0.3768\t Accuracy: Train: 99.716, Val: 97.955)\n",
            "Epoch 38/100\n",
            "(Loss: Train: 0.1047 Val: 0.5024\t Accuracy: Train: 99.432, Val: 97.273)\n",
            "Epoch 39/100\n",
            "(Loss: Train: 0.0837 Val: 0.4605\t Accuracy: Train: 99.545, Val: 97.500)\n",
            "Epoch 40/100\n",
            "(Loss: Train: 0.0523 Val: 0.4605\t Accuracy: Train: 99.716, Val: 97.500)\n",
            "Epoch 41/100\n",
            "(Loss: Train: 0.1151 Val: 0.5024\t Accuracy: Train: 99.375, Val: 97.273)\n",
            "Epoch 42/100\n",
            "(Loss: Train: 0.0733 Val: 0.4605\t Accuracy: Train: 99.602, Val: 97.500)\n",
            "Epoch 43/100\n",
            "(Loss: Train: 0.0523 Val: 0.4187\t Accuracy: Train: 99.716, Val: 97.727)\n",
            "Epoch 44/100\n",
            "(Loss: Train: 0.1256 Val: 0.3349\t Accuracy: Train: 99.318, Val: 98.182)\n",
            "Epoch 45/100\n",
            "(Loss: Train: 0.1256 Val: 0.4187\t Accuracy: Train: 99.318, Val: 97.727)\n",
            "Epoch 46/100\n",
            "(Loss: Train: 0.0733 Val: 0.4187\t Accuracy: Train: 99.602, Val: 97.727)\n",
            "Epoch 47/100\n",
            "(Loss: Train: 0.0419 Val: 0.3768\t Accuracy: Train: 99.773, Val: 97.955)\n",
            "Epoch 48/100\n",
            "(Loss: Train: 0.0523 Val: 0.4187\t Accuracy: Train: 99.716, Val: 97.727)\n",
            "Epoch 49/100\n",
            "(Loss: Train: 0.0523 Val: 0.4187\t Accuracy: Train: 99.716, Val: 97.727)\n",
            "Epoch 50/100\n",
            "(Loss: Train: 0.0628 Val: 0.4187\t Accuracy: Train: 99.659, Val: 97.727)\n",
            "Epoch 51/100\n",
            "(Loss: Train: 0.0419 Val: 0.4187\t Accuracy: Train: 99.773, Val: 97.727)\n",
            "Epoch 52/100\n",
            "(Loss: Train: 0.0314 Val: 0.3768\t Accuracy: Train: 99.830, Val: 97.955)\n",
            "Epoch 53/100\n",
            "(Loss: Train: 0.0523 Val: 0.4187\t Accuracy: Train: 99.716, Val: 97.727)\n",
            "Epoch 54/100\n",
            "(Loss: Train: 0.0733 Val: 0.3768\t Accuracy: Train: 99.602, Val: 97.955)\n",
            "Epoch 55/100\n",
            "(Loss: Train: 0.0314 Val: 0.3349\t Accuracy: Train: 99.830, Val: 98.182)\n",
            "Epoch 56/100\n",
            "(Loss: Train: 0.0837 Val: 0.2512\t Accuracy: Train: 99.545, Val: 98.636)\n",
            "Epoch 57/100\n",
            "(Loss: Train: 0.0523 Val: 0.3768\t Accuracy: Train: 99.716, Val: 97.955)\n",
            "Epoch 58/100\n",
            "(Loss: Train: 0.1047 Val: 0.2931\t Accuracy: Train: 99.432, Val: 98.409)\n",
            "Epoch 59/100\n",
            "(Loss: Train: 0.0209 Val: 0.2512\t Accuracy: Train: 99.886, Val: 98.636)\n",
            "Epoch 60/100\n",
            "(Loss: Train: 0.0314 Val: 0.2093\t Accuracy: Train: 99.830, Val: 98.864)\n",
            "Epoch 61/100\n",
            "(Loss: Train: 0.1361 Val: 0.2931\t Accuracy: Train: 99.261, Val: 98.409)\n",
            "Epoch 62/100\n",
            "(Loss: Train: 0.0419 Val: 0.2931\t Accuracy: Train: 99.773, Val: 98.409)\n",
            "Epoch 63/100\n",
            "(Loss: Train: 0.0523 Val: 0.2512\t Accuracy: Train: 99.716, Val: 98.636)\n",
            "Epoch 64/100\n",
            "(Loss: Train: 0.0523 Val: 0.3349\t Accuracy: Train: 99.716, Val: 98.182)\n",
            "Epoch 65/100\n",
            "(Loss: Train: 0.0733 Val: 0.2931\t Accuracy: Train: 99.602, Val: 98.409)\n",
            "Epoch 66/100\n",
            "(Loss: Train: 0.0523 Val: 0.2931\t Accuracy: Train: 99.716, Val: 98.409)\n",
            "Epoch 67/100\n",
            "(Loss: Train: 0.0419 Val: 0.2931\t Accuracy: Train: 99.773, Val: 98.409)\n",
            "Epoch 68/100\n",
            "(Loss: Train: 0.0628 Val: 0.3349\t Accuracy: Train: 99.659, Val: 98.182)\n",
            "Epoch 69/100\n",
            "(Loss: Train: 0.0419 Val: 0.2512\t Accuracy: Train: 99.773, Val: 98.636)\n",
            "Epoch 70/100\n",
            "(Loss: Train: 0.0733 Val: 0.3349\t Accuracy: Train: 99.602, Val: 98.182)\n",
            "Epoch 71/100\n",
            "(Loss: Train: 0.0209 Val: 0.2093\t Accuracy: Train: 99.886, Val: 98.864)\n",
            "Epoch 72/100\n",
            "(Loss: Train: 0.0314 Val: 0.2093\t Accuracy: Train: 99.830, Val: 98.864)\n",
            "Epoch 73/100\n",
            "(Loss: Train: 0.0523 Val: 0.2093\t Accuracy: Train: 99.716, Val: 98.864)\n",
            "Epoch 74/100\n",
            "(Loss: Train: 0.2721 Val: 0.5861\t Accuracy: Train: 98.523, Val: 96.818)\n",
            "Epoch 75/100\n",
            "(Loss: Train: 0.0628 Val: 0.2931\t Accuracy: Train: 99.659, Val: 98.409)\n",
            "Epoch 76/100\n",
            "(Loss: Train: 0.0733 Val: 0.2512\t Accuracy: Train: 99.602, Val: 98.636)\n",
            "Epoch 77/100\n",
            "(Loss: Train: 0.0942 Val: 0.2093\t Accuracy: Train: 99.489, Val: 98.864)\n",
            "Epoch 78/100\n",
            "(Loss: Train: 0.0523 Val: 0.2093\t Accuracy: Train: 99.716, Val: 98.864)\n",
            "Epoch 79/100\n",
            "(Loss: Train: 0.0314 Val: 0.2093\t Accuracy: Train: 99.830, Val: 98.864)\n",
            "Epoch 80/100\n",
            "(Loss: Train: 0.0419 Val: 0.2093\t Accuracy: Train: 99.773, Val: 98.864)\n",
            "Epoch 81/100\n",
            "(Loss: Train: 0.1151 Val: 0.2512\t Accuracy: Train: 99.375, Val: 98.636)\n",
            "Epoch 82/100\n",
            "(Loss: Train: 0.0628 Val: 0.2093\t Accuracy: Train: 99.659, Val: 98.864)\n",
            "Epoch 83/100\n",
            "(Loss: Train: 0.0314 Val: 0.2093\t Accuracy: Train: 99.830, Val: 98.864)\n",
            "Epoch 84/100\n",
            "(Loss: Train: 0.0419 Val: 0.2093\t Accuracy: Train: 99.773, Val: 98.864)\n",
            "Epoch 85/100\n",
            "(Loss: Train: 0.0628 Val: 0.2093\t Accuracy: Train: 99.659, Val: 98.864)\n",
            "Epoch 86/100\n",
            "(Loss: Train: 0.0209 Val: 0.2512\t Accuracy: Train: 99.886, Val: 98.636)\n",
            "Epoch 87/100\n",
            "(Loss: Train: 0.0419 Val: 0.2512\t Accuracy: Train: 99.773, Val: 98.636)\n",
            "Epoch 88/100\n",
            "(Loss: Train: 0.0523 Val: 0.2093\t Accuracy: Train: 99.716, Val: 98.864)\n",
            "Epoch 89/100\n",
            "(Loss: Train: 0.0942 Val: 0.2931\t Accuracy: Train: 99.489, Val: 98.409)\n",
            "Epoch 90/100\n",
            "(Loss: Train: 0.1361 Val: 0.2931\t Accuracy: Train: 99.261, Val: 98.409)\n",
            "Epoch 91/100\n",
            "(Loss: Train: 0.1361 Val: 0.2512\t Accuracy: Train: 99.261, Val: 98.636)\n",
            "Epoch 92/100\n",
            "(Loss: Train: 0.0837 Val: 0.3768\t Accuracy: Train: 99.545, Val: 97.955)\n",
            "Epoch 93/100\n",
            "(Loss: Train: 0.0419 Val: 0.2093\t Accuracy: Train: 99.773, Val: 98.864)\n",
            "Epoch 94/100\n",
            "(Loss: Train: 0.0314 Val: 0.2512\t Accuracy: Train: 99.830, Val: 98.636)\n",
            "Epoch 95/100\n",
            "(Loss: Train: 0.0419 Val: 0.2931\t Accuracy: Train: 99.773, Val: 98.409)\n",
            "Epoch 96/100\n",
            "(Loss: Train: 0.0314 Val: 0.2093\t Accuracy: Train: 99.830, Val: 98.864)\n",
            "Epoch 97/100\n",
            "(Loss: Train: 0.0314 Val: 0.2093\t Accuracy: Train: 99.830, Val: 98.864)\n",
            "Epoch 98/100\n",
            "(Loss: Train: 0.0314 Val: 0.1675\t Accuracy: Train: 99.830, Val: 99.091)\n",
            "Epoch 99/100\n",
            "(Loss: Train: 0.0209 Val: 0.2093\t Accuracy: Train: 99.886, Val: 98.864)\n",
            "Epoch 100/100\n",
            "(Loss: Train: 0.0419 Val: 0.1675\t Accuracy: Train: 99.773, Val: 99.091)\n"
          ]
        }
      ]
    },
    {
      "cell_type": "markdown",
      "source": [
        "# 3. Plotting Model Results"
      ],
      "metadata": {
        "id": "frkp_I5oifXl"
      }
    },
    {
      "cell_type": "markdown",
      "source": [
        "## 3.1 Train vs Val Accuracy/Loss Over Time"
      ],
      "metadata": {
        "id": "I-qFxWknmwC7"
      }
    },
    {
      "cell_type": "code",
      "source": [
        "nn.plot()"
      ],
      "metadata": {
        "colab": {
          "base_uri": "https://localhost:8080/",
          "height": 927
        },
        "id": "ljnuwC5K5CrP",
        "outputId": "8b366dba-6221-4d9f-c267-27d8dfb538aa"
      },
      "execution_count": null,
      "outputs": [
        {
          "output_type": "display_data",
          "data": {
            "text/plain": [
              "<Figure size 640x480 with 1 Axes>"
            ],
            "image/png": "[encoded data removed]"
          },
          "metadata": {}
        },
        {
          "output_type": "display_data",
          "data": {
            "text/plain": [
              "<Figure size 640x480 with 1 Axes>"
            ],
            "image/png": "[encoded data removed]"
          },
          "metadata": {}
        }
      ]
    },
    {
      "cell_type": "markdown",
      "source": [
        "## 3.2 Final Test Accuracy, Classification Report & Confusion Matrix"
      ],
      "metadata": {
        "id": "bKS7fUi7mnzJ"
      }
    },
    {
      "cell_type": "code",
      "source": [
        "y_preds = nn.predict(X_test)\n",
        "\n",
        "print(f'Accuraacy: {accuracy_score(y_test, y_preds)}\\n')\n",
        "\n",
        "print('Classification report:')\n",
        "print(classification_report(y_test, y_preds))\n",
        "\n",
        "cm = confusion_matrix(y_test, y_preds, labels=np.unique(y))\n",
        "\n",
        "fig, ax = plt.subplots(figsize=(10, 10))\n",
        "\n",
        "disp = ConfusionMatrixDisplay(confusion_matrix=cm,\n",
        "                              display_labels=sorted(df['Crop'].unique()))\n",
        "\n",
        "\n",
        "disp.plot(ax=ax)\n",
        "plt.xticks(rotation=90)\n",
        "plt.title('Neural Network Confusion Matrix')\n",
        "plt.show()"
      ],
      "metadata": {
        "colab": {
          "base_uri": "https://localhost:8080/",
          "height": 1000
        },
        "id": "rNaNC86zikjC",
        "outputId": "a9f36931-3033-4cdb-86c7-6085d80640b0"
      },
      "execution_count": null,
      "outputs": [
        {
          "output_type": "stream",
          "name": "stdout",
          "text": [
            "Accuraacy: 0.990909090909091\n",
            "\n",
            "Classification report:\n",
            "              precision    recall  f1-score   support\n",
            "\n",
            "           0       1.00      1.00      1.00        18\n",
            "           1       1.00      1.00      1.00        18\n",
            "           2       1.00      1.00      1.00        22\n",
            "           3       1.00      1.00      1.00        23\n",
            "           4       1.00      1.00      1.00        15\n",
            "           5       1.00      1.00      1.00        17\n",
            "           6       0.94      1.00      0.97        16\n",
            "           7       1.00      1.00      1.00        18\n",
            "           8       0.91      1.00      0.95        21\n",
            "           9       0.95      1.00      0.98        20\n",
            "          10       1.00      1.00      1.00        17\n",
            "          11       1.00      0.94      0.97        18\n",
            "          12       1.00      1.00      1.00        21\n",
            "          13       1.00      1.00      1.00        25\n",
            "          14       1.00      1.00      1.00        17\n",
            "          15       1.00      1.00      1.00        23\n",
            "          16       1.00      1.00      1.00        23\n",
            "          17       1.00      1.00      1.00        21\n",
            "          18       1.00      0.95      0.98        22\n",
            "          19       1.00      1.00      1.00        23\n",
            "          20       1.00      0.92      0.96        25\n",
            "          21       1.00      1.00      1.00        17\n",
            "\n",
            "    accuracy                           0.99       440\n",
            "   macro avg       0.99      0.99      0.99       440\n",
            "weighted avg       0.99      0.99      0.99       440\n",
            "\n"
          ]
        },
        {
          "output_type": "display_data",
          "data": {
            "text/plain": [
              "<Figure size 1000x1000 with 2 Axes>"
            ],
            "image/png": "[encoded data removed]"
          },
          "metadata": {}
        }
      ]
    }
  ]
}